{
 "cells": [
  {
   "cell_type": "code",
   "execution_count": null,
   "metadata": {},
   "outputs": [],
   "source": [
    "import mxnet as mx\n",
    "import numpy as np\n",
    "import caffe as cf\n",
    "from caffe import layers as L\n",
    "import os,cv2\n",
    "from mxnet2caffe import cvt_end2end\n",
    "\n",
    "from matplotlib import pyplot as plt\n",
    "%pylab inline\n",
    "\n",
    "def show_img(img):\n",
    "    fig = plt.imshow(img.clip(0,255))\n",
    "    fig.axes.get_xaxis().set_visible(False)\n",
    "    fig.axes.get_yaxis().set_visible(False)\n",
    "    plt.show()\n",
    "def show_rgb(img,ifswap=True):\n",
    "    img = np.transpose(img,axes=(1,2,0)).clip(0,255).astype(np.uint8)\n",
    "    if ifswap:\n",
    "        img = cv2.cvtColor(img,cv2.COLOR_BGR2RGB)\n",
    "    fig = plt.imshow(img)\n",
    "    fig.axes.get_xaxis().set_visible(False)\n",
    "    fig.axes.get_yaxis().set_visible(False)\n",
    "    plt.show()\n",
    "def show_gray(img):\n",
    "    fig = plt.imshow(img)\n",
    "    fig.axes.get_xaxis().set_visible(False)\n",
    "    fig.axes.get_yaxis().set_visible(False)\n",
    "    plt.colorbar()\n",
    "    plt.show()\n",
    "def easyshow(src,title,ifcolorbar=True,cmap='gray'):\n",
    "    gci=plt.imshow(src,cmap=cmap)\n",
    "    plt.title(title)\n",
    "    if ifcolorbar:\n",
    "        plt.colorbar(gci)\n",
    "    plt.show()\n",
    "    return\n",
    "\n",
    "def numpy_to_binary(src_arr, dst_fn):\n",
    "    src_arr.astype(np.float32).tofile(dst_fn)\n",
    "    return\n",
    "\n",
    "def numpy_to_txt(src_arr, dst_fn):\n",
    "    with open(dst_fn, 'wb') as f:\n",
    "        for i, val in enumerate(src_arr.astype(np.float32).ravel()):\n",
    "            line = '%f'%val\n",
    "            if i % 10 == 9:\n",
    "                line +='\\r\\n'\n",
    "            else:\n",
    "                line +=' '\n",
    "            f.write(line)\n",
    "    return\n",
    "\n",
    "def save_cfnet_bin(srcnet, outfn):\n",
    "    bytes_total =''\n",
    "    for k,v in srcnet.params.items():\n",
    "        for p in v:\n",
    "            bytes_total += p.data.astype(np.float32).tobytes()\n",
    "    \n",
    "    with open(outfn, 'wb') as f:\n",
    "        f.write(bytes_total)\n",
    "    return"
   ]
  },
  {
   "cell_type": "code",
   "execution_count": null,
   "metadata": {},
   "outputs": [],
   "source": [
    "# src_sym_path = '/home/zcy6735/projects/style-transfer/models/model-0516/single-naive-82-inf.json'\n",
    "# src_sym_path = '/home/zcy6735/projects/style-transfer/models/model-0522/0521-residualv2-inf.json'\n",
    "# src_param_path = '/home/zcy6735/projects/style-transfer/models/model-0522/Picaso-styw-200000.000-tvw-phc0.100-phtv10.000-1.000-640-0007.params'\n",
    "src_sym_path = '/home/zcy6735/projects/style-transfer/models/model-0523/0522-inf.json'\n",
    "src_param_path = '/home/zcy6735/projects/style-transfer/models/model-0523/Picaso-mv2-styw-150000.000-tvw-phc0.100-phtv10.000-1.000-640-0010.params'\n",
    "\n",
    "data_shp = {'data':[1,3, 540, 960]}\n",
    "out_prefix = '../models/model-0523/cf-models/picaso'"
   ]
  },
  {
   "cell_type": "code",
   "execution_count": null,
   "metadata": {},
   "outputs": [],
   "source": [
    "cvt_end2end(src_sym_path, src_param_path, data_shp, out_prefix)"
   ]
  },
  {
   "cell_type": "code",
   "execution_count": null,
   "metadata": {},
   "outputs": [],
   "source": [
    "class RGBImg2Tensor(object):\n",
    "    def __init__(self, img_wh, mean=(0.485, 0.456, 0.406), std=(0.229, 0.224, 0.225), aug=None):\n",
    "        super(RGBImg2Tensor, self).__init__()\n",
    "        self.img_wh = img_wh\n",
    "        self.aug = aug\n",
    "        self.mean = mean\n",
    "        self.std = std\n",
    "\n",
    "    def __call__(self, data):\n",
    "        _rsz_img = mx.image.imresize(data, self.img_wh[0], self.img_wh[1], interp=1)\n",
    "        _rsz_img = mx.nd.cast(_rsz_img, dtype='uint8')\n",
    "        if self.aug:\n",
    "            _rsz_img = self.aug(_rsz_img)\n",
    "            _rsz_img = mx.nd.clip(_rsz_img, 0, 255)\n",
    "\n",
    "        _imgtensor = mx.nd.image.to_tensor(_rsz_img)\n",
    "        _imgtensor = mx.nd.image.normalize(\n",
    "            _imgtensor, mean=self.mean, std=self.std)\n",
    "\n",
    "        return _imgtensor\n",
    "\n",
    "class Tensor2BGRImg(object):\n",
    "    def __init__(self, mean=(0.485, 0.456, 0.406), std=(0.229, 0.224, 0.225)):\n",
    "        super(Tensor2BGRImg, self).__init__()\n",
    "        self.mean = np.reshape(np.array(mean), (3, 1, 1))\n",
    "        self.std = np.reshape(np.array(std), (3, 1, 1))\n",
    "        return\n",
    "\n",
    "    def __call__(self, data):\n",
    "        inv_norm_img = (data * self.std + self.mean)\n",
    "        inv_norm_img = np.transpose(\n",
    "            255 * inv_norm_img, axes=(1, 2, 0)).clip(0, 255).astype(np.uint8)\n",
    "        bgr_inv_norm_img = cv2.cvtColor(inv_norm_img, cv2.COLOR_RGB2BGR)\n",
    "        return bgr_inv_norm_img"
   ]
  },
  {
   "cell_type": "code",
   "execution_count": null,
   "metadata": {},
   "outputs": [],
   "source": [
    "pre, post = RGBImg2Tensor((960,540)), Tensor2BGRImg()\n",
    "srcimg_fn = '/home/zcy6735/projects/style-transfer/data/content/portrit.png'\n",
    "srcimg_mx = mx.image.imread(srcimg_fn)\n",
    "srcimg_np = pre(srcimg_mx).asnumpy()\n",
    "srcimg_np = np.expand_dims(srcimg_np,axis=0)"
   ]
  },
  {
   "cell_type": "code",
   "execution_count": null,
   "metadata": {},
   "outputs": [],
   "source": [
    "#initialize caffe network\n",
    "import caffe as cf\n",
    "transfer_net = cf.Net(out_prefix + '.prototxt', out_prefix+ '.caffemodel', cf.TEST)"
   ]
  },
  {
   "cell_type": "code",
   "execution_count": null,
   "metadata": {},
   "outputs": [],
   "source": [
    "transfer_net.blobs['data'].data[...] = srcimg_np"
   ]
  },
  {
   "cell_type": "code",
   "execution_count": null,
   "metadata": {},
   "outputs": [],
   "source": [
    "transfer_net.forward()\n",
    "outkey = transfer_net.blobs.keys()[-1]\n",
    "transfered_data = transfer_net.blobs[outkey].data[0]"
   ]
  },
  {
   "cell_type": "code",
   "execution_count": null,
   "metadata": {},
   "outputs": [],
   "source": [
    "res_img = post(transfered_data)"
   ]
  },
  {
   "cell_type": "code",
   "execution_count": null,
   "metadata": {},
   "outputs": [],
   "source": [
    "easyshow(cv2.cvtColor(res_img,cv2.COLOR_BGR2RGB),'res')"
   ]
  },
  {
   "cell_type": "code",
   "execution_count": null,
   "metadata": {},
   "outputs": [],
   "source": [
    "cv2.imwrite('./cf-out.jpg',res_img)"
   ]
  },
  {
   "cell_type": "code",
   "execution_count": null,
   "metadata": {},
   "outputs": [],
   "source": []
  },
  {
   "cell_type": "code",
   "execution_count": 1,
   "metadata": {},
   "outputs": [],
   "source": [
    "import mxnet as mx"
   ]
  },
  {
   "cell_type": "code",
   "execution_count": 2,
   "metadata": {},
   "outputs": [],
   "source": [
    "mx.nd.sigmoid?"
   ]
  },
  {
   "cell_type": "code",
   "execution_count": null,
   "metadata": {},
   "outputs": [],
   "source": []
  }
 ],
 "metadata": {
  "kernelspec": {
   "display_name": "py2-dl",
   "language": "python",
   "name": "py2-dl"
  },
  "language_info": {
   "codemirror_mode": {
    "name": "ipython",
    "version": 2
   },
   "file_extension": ".py",
   "mimetype": "text/x-python",
   "name": "python",
   "nbconvert_exporter": "python",
   "pygments_lexer": "ipython2",
   "version": "2.7.12"
  }
 },
 "nbformat": 4,
 "nbformat_minor": 2
}
